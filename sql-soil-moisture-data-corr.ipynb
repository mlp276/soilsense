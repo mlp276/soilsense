{
 "cells": [
  {
   "cell_type": "code",
   "execution_count": 1,
   "id": "04a274f8-2304-4b27-84af-ff57957e8399",
   "metadata": {},
   "outputs": [],
   "source": [
    "%matplotlib inline\n",
    "\n",
    "import mysql.connector\n",
    "import pandas as pd\n",
    "import matplotlib.pyplot as plt\n",
    "import seaborn as sns\n",
    "import numpy as np\n",
    "\n",
    "sns.set(style=\"darkgrid\")"
   ]
  },
  {
   "cell_type": "code",
   "execution_count": 2,
   "id": "69efffb2-e0f4-4ab1-a035-75bc108ab688",
   "metadata": {},
   "outputs": [
    {
     "name": "stdout",
     "output_type": "stream",
     "text": [
      "<mysql.connector.connection_cext.CMySQLConnection object at 0x0000028E8220D2B0>\n"
     ]
    }
   ],
   "source": [
    "db = mysql.connector.connect(\n",
    "    host = \"localhost\",\n",
    "    user = \"root\",\n",
    "    password = \"C04eL5@rn\",\n",
    "    database = \"soil-sensor-data\"\n",
    ")\n",
    "\n",
    "mycursor = db.cursor()\n",
    "print(db)"
   ]
  },
  {
   "cell_type": "code",
   "execution_count": 3,
   "id": "e29448eb",
   "metadata": {},
   "outputs": [
    {
     "name": "stdout",
     "output_type": "stream",
     "text": [
      "('1741393550.169714', 29.1, 362)\n",
      "('1741393552.5227919', 29.0, 361)\n",
      "('1741393554.8369532', 29.1, 361)\n",
      "('1741393556.3387918', 29.3, 361)\n"
     ]
    }
   ],
   "source": [
    "mycursor.execute(\"SELECT * FROM sensor01_test\")\n",
    "\n",
    "output = mycursor.fetchall()\n",
    "\n",
    "for x in output:\n",
    "    print(x)"
   ]
  },
  {
   "cell_type": "code",
   "execution_count": 4,
   "id": "f30f6149",
   "metadata": {},
   "outputs": [
    {
     "name": "stderr",
     "output_type": "stream",
     "text": [
      "C:\\Users\\Dell\\AppData\\Local\\Temp\\ipykernel_28540\\2708161193.py:3: UserWarning: pandas only supports SQLAlchemy connectable (engine/connection) or database string URI or sqlite3 DBAPI2 connection. Other DBAPI2 objects are not tested. Please consider using SQLAlchemy.\n",
      "  s1 = pd.read_sql(query, db)\n"
     ]
    }
   ],
   "source": [
    "query = \"SELECT * FROM sensor01_test\"\n",
    "\n",
    "s1 = pd.read_sql(query, db)"
   ]
  },
  {
   "cell_type": "code",
   "execution_count": 5,
   "id": "2fd15ec7",
   "metadata": {},
   "outputs": [
    {
     "data": {
      "text/html": [
       "<div>\n",
       "<style scoped>\n",
       "    .dataframe tbody tr th:only-of-type {\n",
       "        vertical-align: middle;\n",
       "    }\n",
       "\n",
       "    .dataframe tbody tr th {\n",
       "        vertical-align: top;\n",
       "    }\n",
       "\n",
       "    .dataframe thead th {\n",
       "        text-align: right;\n",
       "    }\n",
       "</style>\n",
       "<table border=\"1\" class=\"dataframe\">\n",
       "  <thead>\n",
       "    <tr style=\"text-align: right;\">\n",
       "      <th></th>\n",
       "      <th>Time in Millisecond Since UTC Epoch</th>\n",
       "      <th>Temperature in Celsius</th>\n",
       "      <th>Capacitive Reading</th>\n",
       "    </tr>\n",
       "  </thead>\n",
       "  <tbody>\n",
       "    <tr>\n",
       "      <th>0</th>\n",
       "      <td>1741393550.169714</td>\n",
       "      <td>29.1</td>\n",
       "      <td>362</td>\n",
       "    </tr>\n",
       "    <tr>\n",
       "      <th>1</th>\n",
       "      <td>1741393552.5227919</td>\n",
       "      <td>29.0</td>\n",
       "      <td>361</td>\n",
       "    </tr>\n",
       "    <tr>\n",
       "      <th>2</th>\n",
       "      <td>1741393554.8369532</td>\n",
       "      <td>29.1</td>\n",
       "      <td>361</td>\n",
       "    </tr>\n",
       "    <tr>\n",
       "      <th>3</th>\n",
       "      <td>1741393556.3387918</td>\n",
       "      <td>29.3</td>\n",
       "      <td>361</td>\n",
       "    </tr>\n",
       "  </tbody>\n",
       "</table>\n",
       "</div>"
      ],
      "text/plain": [
       "  Time in Millisecond Since UTC Epoch  Temperature in Celsius  \\\n",
       "0                   1741393550.169714                    29.1   \n",
       "1                  1741393552.5227919                    29.0   \n",
       "2                  1741393554.8369532                    29.1   \n",
       "3                  1741393556.3387918                    29.3   \n",
       "\n",
       "   Capacitive Reading  \n",
       "0                 362  \n",
       "1                 361  \n",
       "2                 361  \n",
       "3                 361  "
      ]
     },
     "execution_count": 5,
     "metadata": {},
     "output_type": "execute_result"
    }
   ],
   "source": [
    "s1.head()"
   ]
  },
  {
   "cell_type": "code",
   "execution_count": 6,
   "id": "8a117474",
   "metadata": {},
   "outputs": [],
   "source": [
    "df2 = pd.read_csv('plantDatabase.csv')\n",
    "\n",
    "df2.columns = ['#', 'Name', 'Common Name', 'Type', 'New Jersey Native?', 'Soil Type', 'Soil Moisture', 'Soil pH', 'Drought Tolerance', 'Optimal Light', 'Light Range', 'Hardiness Zone']\n",
    "\n",
    "df3 = df2.drop(df2.index[0])\n",
    "\n",
    "df4 = df3.drop(columns=['#'])\n",
    "\n",
    "dbfinal = df4"
   ]
  },
  {
   "cell_type": "code",
   "execution_count": 7,
   "id": "14317025",
   "metadata": {},
   "outputs": [
    {
     "data": {
      "text/html": [
       "<div>\n",
       "<style scoped>\n",
       "    .dataframe tbody tr th:only-of-type {\n",
       "        vertical-align: middle;\n",
       "    }\n",
       "\n",
       "    .dataframe tbody tr th {\n",
       "        vertical-align: top;\n",
       "    }\n",
       "\n",
       "    .dataframe thead th {\n",
       "        text-align: right;\n",
       "    }\n",
       "</style>\n",
       "<table border=\"1\" class=\"dataframe\">\n",
       "  <thead>\n",
       "    <tr style=\"text-align: right;\">\n",
       "      <th></th>\n",
       "      <th>Time in Millisecond Since UTC Epoch</th>\n",
       "      <th>Temperature in Celsius</th>\n",
       "      <th>Capacitive Reading</th>\n",
       "      <th>Soil Moisture</th>\n",
       "    </tr>\n",
       "  </thead>\n",
       "  <tbody>\n",
       "    <tr>\n",
       "      <th>0</th>\n",
       "      <td>1741393550.169714</td>\n",
       "      <td>29.1</td>\n",
       "      <td>362</td>\n",
       "      <td>Dry</td>\n",
       "    </tr>\n",
       "    <tr>\n",
       "      <th>1</th>\n",
       "      <td>1741393552.5227919</td>\n",
       "      <td>29.0</td>\n",
       "      <td>361</td>\n",
       "      <td>Dry</td>\n",
       "    </tr>\n",
       "    <tr>\n",
       "      <th>2</th>\n",
       "      <td>1741393554.8369532</td>\n",
       "      <td>29.1</td>\n",
       "      <td>361</td>\n",
       "      <td>Dry</td>\n",
       "    </tr>\n",
       "    <tr>\n",
       "      <th>3</th>\n",
       "      <td>1741393556.3387918</td>\n",
       "      <td>29.3</td>\n",
       "      <td>361</td>\n",
       "      <td>Dry</td>\n",
       "    </tr>\n",
       "  </tbody>\n",
       "</table>\n",
       "</div>"
      ],
      "text/plain": [
       "  Time in Millisecond Since UTC Epoch  Temperature in Celsius  \\\n",
       "0                   1741393550.169714                    29.1   \n",
       "1                  1741393552.5227919                    29.0   \n",
       "2                  1741393554.8369532                    29.1   \n",
       "3                  1741393556.3387918                    29.3   \n",
       "\n",
       "   Capacitive Reading Soil Moisture  \n",
       "0                 362           Dry  \n",
       "1                 361           Dry  \n",
       "2                 361           Dry  \n",
       "3                 361           Dry  "
      ]
     },
     "execution_count": 7,
     "metadata": {},
     "output_type": "execute_result"
    }
   ],
   "source": [
    "conditions = [\n",
    "    (s1['Capacitive Reading'] <= 650),\n",
    "    (s1['Capacitive Reading'] > 650) & (s1['Capacitive Reading'] <= 1100),\n",
    "    (s1['Capacitive Reading'] > 1100) & (s1['Capacitive Reading'] <= 1550),\n",
    "    (s1['Capacitive Reading'] > 1550)\n",
    "]\n",
    "\n",
    "values = ['Dry', 'Dry_Moist', 'Moist', 'Moist_Wet']\n",
    "\n",
    "s1['Soil Moisture'] = np.select(conditions, values, default=pd.NaT)\n",
    "\n",
    "s1.head()"
   ]
  },
  {
   "cell_type": "code",
   "execution_count": 8,
   "id": "b7baa70c",
   "metadata": {},
   "outputs": [
    {
     "data": {
      "text/plain": [
       "Time in Millisecond Since UTC Epoch     object\n",
       "Temperature in Celsius                 float64\n",
       "Capacitive Reading                       int64\n",
       "Soil Moisture                           object\n",
       "dtype: object"
      ]
     },
     "execution_count": 8,
     "metadata": {},
     "output_type": "execute_result"
    }
   ],
   "source": [
    "s1.dtypes"
   ]
  },
  {
   "cell_type": "code",
   "execution_count": 9,
   "id": "879f20a7",
   "metadata": {},
   "outputs": [
    {
     "name": "stdout",
     "output_type": "stream",
     "text": [
      "2                  Yarrow\n",
      "8       Black Huckleberry\n",
      "10     Lindheimer’s Muhly\n",
      "11        Little Bluestem\n",
      "13    Japanese Tree Lilac\n",
      "15             Arborvitae\n",
      "17      Lowbush Blueberry\n",
      "20                 Zinnia\n",
      "Name: Common Name, dtype: object\n",
      "1     Narrowleaf Mountain mint\n",
      "3               Yellow Buckeye\n",
      "4                      Begonia\n",
      "9             Spotted Geranium\n",
      "16           American Basswood\n",
      "18           New York Ironweed\n",
      "19                   Arrowwood\n",
      "Name: Common Name, dtype: object\n",
      "14    King of the Meadow\n",
      "Name: Common Name, dtype: object\n",
      "5     Ornamental Cabbage\n",
      "6       Crested Woodfern\n",
      "7             Sweetbells\n",
      "12             Woolgrass\n",
      "Name: Common Name, dtype: object\n"
     ]
    }
   ],
   "source": [
    "#extract an array of plants that have the specified soil moisture from the plant database, \n",
    "#and store the array into the respective lists\n",
    "\n",
    "dryplants = dbfinal.loc[dbfinal['Soil Moisture'] == 'Dry', 'Common Name']\n",
    "print(dryplants)\n",
    "\n",
    "drymoist = dbfinal.loc[dbfinal['Soil Moisture'] == 'Dry_Moist', 'Common Name']\n",
    "print(drymoist)\n",
    "\n",
    "moistplants = dbfinal.loc[dbfinal['Soil Moisture'] == 'Moist', 'Common Name']\n",
    "print(moistplants)\n",
    "\n",
    "moistwet = dbfinal.loc[dbfinal['Soil Moisture'] == 'Moist_Wet', 'Common Name']\n",
    "print(moistwet)"
   ]
  },
  {
   "cell_type": "code",
   "execution_count": 10,
   "id": "7e07a82d",
   "metadata": {},
   "outputs": [
    {
     "data": {
      "text/html": [
       "<div>\n",
       "<style scoped>\n",
       "    .dataframe tbody tr th:only-of-type {\n",
       "        vertical-align: middle;\n",
       "    }\n",
       "\n",
       "    .dataframe tbody tr th {\n",
       "        vertical-align: top;\n",
       "    }\n",
       "\n",
       "    .dataframe thead th {\n",
       "        text-align: right;\n",
       "    }\n",
       "</style>\n",
       "<table border=\"1\" class=\"dataframe\">\n",
       "  <thead>\n",
       "    <tr style=\"text-align: right;\">\n",
       "      <th></th>\n",
       "      <th>Time in Millisecond Since UTC Epoch</th>\n",
       "      <th>Temperature in Celsius</th>\n",
       "      <th>Capacitive Reading</th>\n",
       "      <th>Soil Moisture</th>\n",
       "      <th>Plant Recommendations</th>\n",
       "    </tr>\n",
       "  </thead>\n",
       "  <tbody>\n",
       "    <tr>\n",
       "      <th>0</th>\n",
       "      <td>1741393550.169714</td>\n",
       "      <td>29.1</td>\n",
       "      <td>362</td>\n",
       "      <td>Dry</td>\n",
       "      <td>Yarrow Black Huckleberry Lindheimer’s Muhly Li...</td>\n",
       "    </tr>\n",
       "    <tr>\n",
       "      <th>1</th>\n",
       "      <td>1741393552.5227919</td>\n",
       "      <td>29.0</td>\n",
       "      <td>361</td>\n",
       "      <td>Dry</td>\n",
       "      <td>Yarrow Black Huckleberry Lindheimer’s Muhly Li...</td>\n",
       "    </tr>\n",
       "    <tr>\n",
       "      <th>2</th>\n",
       "      <td>1741393554.8369532</td>\n",
       "      <td>29.1</td>\n",
       "      <td>361</td>\n",
       "      <td>Dry</td>\n",
       "      <td>Yarrow Black Huckleberry Lindheimer’s Muhly Li...</td>\n",
       "    </tr>\n",
       "    <tr>\n",
       "      <th>3</th>\n",
       "      <td>1741393556.3387918</td>\n",
       "      <td>29.3</td>\n",
       "      <td>361</td>\n",
       "      <td>Dry</td>\n",
       "      <td>Yarrow Black Huckleberry Lindheimer’s Muhly Li...</td>\n",
       "    </tr>\n",
       "  </tbody>\n",
       "</table>\n",
       "</div>"
      ],
      "text/plain": [
       "  Time in Millisecond Since UTC Epoch  Temperature in Celsius  \\\n",
       "0                   1741393550.169714                    29.1   \n",
       "1                  1741393552.5227919                    29.0   \n",
       "2                  1741393554.8369532                    29.1   \n",
       "3                  1741393556.3387918                    29.3   \n",
       "\n",
       "   Capacitive Reading Soil Moisture  \\\n",
       "0                 362           Dry   \n",
       "1                 361           Dry   \n",
       "2                 361           Dry   \n",
       "3                 361           Dry   \n",
       "\n",
       "                               Plant Recommendations  \n",
       "0  Yarrow Black Huckleberry Lindheimer’s Muhly Li...  \n",
       "1  Yarrow Black Huckleberry Lindheimer’s Muhly Li...  \n",
       "2  Yarrow Black Huckleberry Lindheimer’s Muhly Li...  \n",
       "3  Yarrow Black Huckleberry Lindheimer’s Muhly Li...  "
      ]
     },
     "execution_count": 10,
     "metadata": {},
     "output_type": "execute_result"
    }
   ],
   "source": [
    "con2 = [\n",
    "    (s1['Soil Moisture'] == 'Dry'),\n",
    "    (s1['Soil Moisture'] == 'Dry_Moist'),\n",
    "    (s1['Soil Moisture'] == 'Moist'),\n",
    "    (s1['Soil Moisture'] == 'Moist_Wet')\n",
    "]\n",
    "\n",
    "#convert the lists of plants with a specified soil moisture into strings so they  \n",
    "#can be returned as recommendations in a new column of the soil moisture dataframe\n",
    "\n",
    "dpst = \" \".join(str(x) for x in dryplants)\n",
    "dmst = \" \".join(str(x) for x in drymoist)\n",
    "mpst = \" \".join(str(x) for x in moistplants)\n",
    "mwst = \" \".join(str(x) for x in moistwet)\n",
    "\n",
    "val2 = [dpst, dmst, mpst, mwst]\n",
    "\n",
    "s1['Plant Recommendations'] = np.select(con2, val2, default=pd.NaT)\n",
    "s1.head()"
   ]
  },
  {
   "cell_type": "code",
   "execution_count": 11,
   "id": "e9e7c9bc",
   "metadata": {},
   "outputs": [
    {
     "name": "stdout",
     "output_type": "stream",
     "text": [
      "2                  Yarrow\n",
      "8       Black Huckleberry\n",
      "10     Lindheimer’s Muhly\n",
      "11        Little Bluestem\n",
      "13    Japanese Tree Lilac\n",
      "15             Arborvitae\n",
      "17      Lowbush Blueberry\n",
      "20                 Zinnia\n",
      "Name: Common Name, dtype: object\n",
      "2                  Yarrow\n",
      "8       Black Huckleberry\n",
      "10     Lindheimer’s Muhly\n",
      "11        Little Bluestem\n",
      "13    Japanese Tree Lilac\n",
      "15             Arborvitae\n",
      "17      Lowbush Blueberry\n",
      "20                 Zinnia\n",
      "Name: Common Name, dtype: object\n",
      "2                  Yarrow\n",
      "8       Black Huckleberry\n",
      "10     Lindheimer’s Muhly\n",
      "11        Little Bluestem\n",
      "13    Japanese Tree Lilac\n",
      "15             Arborvitae\n",
      "17      Lowbush Blueberry\n",
      "20                 Zinnia\n",
      "Name: Common Name, dtype: object\n",
      "2                  Yarrow\n",
      "8       Black Huckleberry\n",
      "10     Lindheimer’s Muhly\n",
      "11        Little Bluestem\n",
      "13    Japanese Tree Lilac\n",
      "15             Arborvitae\n",
      "17      Lowbush Blueberry\n",
      "20                 Zinnia\n",
      "Name: Common Name, dtype: object\n"
     ]
    }
   ],
   "source": [
    "for i in s1['Plant Recommendations']:\n",
    "    if i == dpst:\n",
    "        print(dryplants)\n",
    "    elif i == dmst:\n",
    "        print (drymoist)\n",
    "    elif i == mpst:\n",
    "        print (moistplants)\n",
    "    elif i == mwst:\n",
    "        print (moistwet)"
   ]
  },
  {
   "cell_type": "code",
   "execution_count": null,
   "id": "ee37f324",
   "metadata": {},
   "outputs": [],
   "source": []
  }
 ],
 "metadata": {
  "kernelspec": {
   "display_name": "Python 3",
   "language": "python",
   "name": "python3"
  },
  "language_info": {
   "codemirror_mode": {
    "name": "ipython",
    "version": 3
   },
   "file_extension": ".py",
   "mimetype": "text/x-python",
   "name": "python",
   "nbconvert_exporter": "python",
   "pygments_lexer": "ipython3",
   "version": "3.13.2"
  }
 },
 "nbformat": 4,
 "nbformat_minor": 5
}
